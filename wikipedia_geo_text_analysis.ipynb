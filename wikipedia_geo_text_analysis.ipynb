{
 "cells": [
  {
   "cell_type": "markdown",
   "metadata": {},
   "source": [
    "Step 1: Pre‑processing Functions and Feature Extraction\n",
    "This step includes functions to tokenize, remove stop words, apply stemming, and lemmatize text. It also includes a helper to extract features as a bag‑of‑words."
   ]
  },
  {
   "cell_type": "code",
   "execution_count": 1,
   "metadata": {},
   "outputs": [
    {
     "name": "stderr",
     "output_type": "stream",
     "text": [
      "[nltk_data] Downloading package punkt to\n",
      "[nltk_data]     /Users/majidtavakoli/nltk_data...\n",
      "[nltk_data]   Package punkt is already up-to-date!\n",
      "[nltk_data] Downloading package stopwords to\n",
      "[nltk_data]     /Users/majidtavakoli/nltk_data...\n",
      "[nltk_data]   Unzipping corpora/stopwords.zip.\n",
      "[nltk_data] Downloading package wordnet to\n",
      "[nltk_data]     /Users/majidtavakoli/nltk_data...\n"
     ]
    },
    {
     "name": "stdout",
     "output_type": "stream",
     "text": [
      "Processed tokens: ['sampl', 'text', 'demonstr', 'pre-process', 'use', 'nltk']\n"
     ]
    }
   ],
   "source": [
    "import nltk\n",
    "import string\n",
    "from nltk.corpus import stopwords\n",
    "from nltk.stem import PorterStemmer, WordNetLemmatizer\n",
    "from nltk.tokenize import word_tokenize\n",
    "\n",
    "# Download required NLTK resources (only needed once)\n",
    "nltk.download('punkt')\n",
    "nltk.download('stopwords')\n",
    "nltk.download('wordnet')\n",
    "\n",
    "def preprocess(text):\n",
    "    \"\"\"\n",
    "    Process text by:\n",
    "      - Converting to lowercase and tokenizing.\n",
    "      - Removing punctuation and stop words.\n",
    "      - Applying stemming and lemmatization.\n",
    "    Returns a list of cleaned tokens.\n",
    "    \"\"\"\n",
    "    tokens = word_tokenize(text.lower())\n",
    "    tokens = [word for word in tokens if word not in string.punctuation]\n",
    "    stop_words = set(stopwords.words('english'))\n",
    "    tokens = [word for word in tokens if word not in stop_words]\n",
    "    # Stemming\n",
    "    stemmer = PorterStemmer()\n",
    "    tokens_stemmed = [stemmer.stem(word) for word in tokens]\n",
    "    # Lemmatization\n",
    "    lemmatizer = WordNetLemmatizer()\n",
    "    tokens_lemmatized = [lemmatizer.lemmatize(word) for word in tokens_stemmed]\n",
    "    return tokens_lemmatized\n",
    "\n",
    "def extract_features(words):\n",
    "    \"\"\"\n",
    "    Convert a list of words into a feature dictionary.\n",
    "    Each word is a key with the value True.\n",
    "    \"\"\"\n",
    "    return {word: True for word in words}\n",
    "\n",
    "# Example usage:\n",
    "if __name__ == \"__main__\":\n",
    "    sample_text = \"This is a sample text to demonstrate pre-processing using NLTK.\"\n",
    "    print(\"Processed tokens:\", preprocess(sample_text))\n"
   ]
  },
  {
   "cell_type": "markdown",
   "metadata": {},
   "source": [
    "Step 2: Data Collection from Wikipedia\n",
    "This part uses the wikipedia library to fetch content from selected Wikipedia pages. Adjust the titles to suit your needs"
   ]
  },
  {
   "cell_type": "code",
   "execution_count": 4,
   "metadata": {},
   "outputs": [
    {
     "name": "stdout",
     "output_type": "stream",
     "text": [
      "Collected dataset samples:\n",
      "Label: non-geographic | Text snippet: Quantum mechanics is a fundamental theory that describes the behavior of nature at and below the sca...\n",
      "Label: non-geographic | Text snippet: Computer science is the study of computation, information, and automation. Computer science spans th...\n",
      "Label: geographic | Text snippet: Paris (French pronunciation: [paʁi] ) is the capital and largest city of France. With an estimated p...\n",
      "Label: non-geographic | Text snippet: Modern art includes artistic work produced during the period extending roughly from the 1860s to the...\n",
      "Label: non-geographic | Text snippet: Philosophy is a systematic study of general and fundamental questions concerning topics like existen...\n",
      "Label: geographic | Text snippet: The Amazon rainforest, also called Amazon jungle or Amazonia, is a moist broadleaf tropical rainfore...\n",
      "Label: geographic | Text snippet: Mount Everest, known locally as Sagarmatha or Qomolangma,  is Earth's highest mountain above sea lev...\n",
      "Label: geographic | Text snippet: New York, often called New York City or NYC, is the most populous city in the United States, located...\n"
     ]
    }
   ],
   "source": [
    "import wikipedia\n",
    "import random\n",
    "\n",
    "\n",
    "\n",
    "def get_wikipedia_content(page_title):\n",
    "    \"\"\"\n",
    "    Fetches and returns the content of a Wikipedia page by its title.\n",
    "    Disables auto-suggest to avoid misspelled titles.\n",
    "    If a PageError occurs, attempts to use wikipedia.search() to find a correct title.\n",
    "    \"\"\"\n",
    "    try:\n",
    "        # Disable auto_suggest to force the use of the exact title\n",
    "        page = wikipedia.page(page_title, auto_suggest=False)\n",
    "        return page.content\n",
    "    except wikipedia.DisambiguationError as e:\n",
    "        print(f\"Disambiguation error for '{page_title}'. Options: {e.options}\")\n",
    "        try:\n",
    "            # Choose the first option from disambiguation\n",
    "            page = wikipedia.page(e.options[0], auto_suggest=False)\n",
    "            return page.content\n",
    "        except Exception as ex:\n",
    "            print(f\"Error fetching disambiguated page '{e.options[0]}': {ex}\")\n",
    "            return \"\"\n",
    "    except wikipedia.PageError as e:\n",
    "        print(f\"Page error for '{page_title}': {e}\")\n",
    "        # Attempt to search for a valid title using the search API\n",
    "        search_results = wikipedia.search(page_title)\n",
    "        if search_results:\n",
    "            try:\n",
    "                page = wikipedia.page(search_results[0], auto_suggest=False)\n",
    "                return page.content\n",
    "            except Exception as ex:\n",
    "                print(f\"Error fetching page '{search_results[0]}': {ex}\")\n",
    "                return \"\"\n",
    "        return \"\"\n",
    "    except Exception as e:\n",
    "        print(f\"Error fetching page '{page_title}': {e}\")\n",
    "        return \"\"\n",
    "\n",
    "\n",
    "def collect_dataset():\n",
    "    \"\"\"\n",
    "    Collects a labeled dataset from Wikipedia.\n",
    "    Geographic pages are labeled \"geographic\" and non-geographic pages as \"non-geographic\".\n",
    "    Returns a list of (text_snippet, label) tuples.\n",
    "    \"\"\"\n",
    "    geographic_pages = [\"New York City\", \"Paris\", \"Mount Everest\", \"Amazon Rainforest\"]\n",
    "    non_geographic_pages = [\"Computer Science\", \"Modern Art\", \"Philosophy\", \"Quantum Mechanics\"]\n",
    "\n",
    "    dataset = []\n",
    "    for title in geographic_pages:\n",
    "        content = get_wikipedia_content(title)\n",
    "        if content:\n",
    "            snippet = content[:1000]  # Use the first 1000 characters as a sample\n",
    "            dataset.append((snippet, \"geographic\"))\n",
    "\n",
    "    for title in non_geographic_pages:\n",
    "        content = get_wikipedia_content(title)\n",
    "        if content:\n",
    "            snippet = content[:1000]\n",
    "            dataset.append((snippet, \"non-geographic\"))\n",
    "\n",
    "    random.shuffle(dataset)\n",
    "    return dataset\n",
    "\n",
    "# Example usage:\n",
    "if __name__ == \"__main__\":\n",
    "    data = collect_dataset()\n",
    "    print(\"Collected dataset samples:\")\n",
    "    for text, label in data:\n",
    "        print(f\"Label: {label} | Text snippet: {text[:100]}...\")\n"
   ]
  },
  {
   "cell_type": "markdown",
   "metadata": {},
   "source": [
    "Step 3: Training the Naive Bayes Classifier Using NLTK\n",
    "This segment preprocesses the collected data, extracts features, splits the dataset, trains a Naive Bayes classifier, and evaluates its performance."
   ]
  },
  {
   "cell_type": "code",
   "execution_count": 5,
   "metadata": {},
   "outputs": [
    {
     "name": "stdout",
     "output_type": "stream",
     "text": [
      "Naive Bayes Classifier Accuracy: 0.5\n",
      "Most Informative Features:\n",
      "Most Informative Features\n",
      "                    area = None           non-ge : geogra =      2.8 : 1.0\n",
      "                   estim = None           non-ge : geogra =      2.8 : 1.0\n",
      "                     km2 = None           non-ge : geogra =      2.8 : 1.0\n",
      "                 largest = None           non-ge : geogra =      2.8 : 1.0\n",
      "                   major = None           non-ge : geogra =      2.8 : 1.0\n"
     ]
    }
   ],
   "source": [
    "import nltk\n",
    "\n",
    "def train_naive_bayes(dataset):\n",
    "    \"\"\"\n",
    "    Preprocess texts and extract features, then split the data into training and test sets.\n",
    "    Train a Naive Bayes classifier using NLTK and print its accuracy.\n",
    "    \"\"\"\n",
    "    # Convert each (text, label) pair into (features, label)\n",
    "    featuresets = [(extract_features(preprocess(text)), label) for (text, label) in dataset]\n",
    "\n",
    "    # Use 80% of the data for training and 20% for testing\n",
    "    split_index = int(len(featuresets) * 0.8)\n",
    "    train_set = featuresets[:split_index]\n",
    "    test_set = featuresets[split_index:]\n",
    "\n",
    "    nb_classifier = nltk.NaiveBayesClassifier.train(train_set)\n",
    "    accuracy = nltk.classify.accuracy(nb_classifier, test_set)\n",
    "    print(\"Naive Bayes Classifier Accuracy:\", accuracy)\n",
    "    print(\"Most Informative Features:\")\n",
    "    nb_classifier.show_most_informative_features(5)\n",
    "    return nb_classifier\n",
    "\n",
    "# Example usage:\n",
    "if __name__ == \"__main__\":\n",
    "    dataset = collect_dataset()\n",
    "    if dataset:\n",
    "        train_naive_bayes(dataset)\n"
   ]
  },
  {
   "cell_type": "markdown",
   "metadata": {},
   "source": [
    "Step 4: Training the Logistic Regression Classifier Using scikit‑learn\n",
    "This section converts the feature dictionaries into vectors using scikit‑learn’s DictVectorizer, then trains and evaluates a Logistic Regression classifier"
   ]
  },
  {
   "cell_type": "code",
   "execution_count": 6,
   "metadata": {},
   "outputs": [
    {
     "name": "stdout",
     "output_type": "stream",
     "text": [
      "Logistic Regression Classifier Accuracy: 1.0\n"
     ]
    }
   ],
   "source": [
    "from sklearn.feature_extraction import DictVectorizer\n",
    "from sklearn.linear_model import LogisticRegression\n",
    "from sklearn.model_selection import train_test_split\n",
    "from sklearn.metrics import accuracy_score\n",
    "\n",
    "def train_logistic_regression(dataset):\n",
    "    \"\"\"\n",
    "    Preprocess texts, extract features, vectorize them, and then train a Logistic Regression classifier.\n",
    "    Evaluates the classifier and prints the accuracy.\n",
    "    \"\"\"\n",
    "    features = [extract_features(preprocess(text)) for (text, label) in dataset]\n",
    "    labels = [label for (text, label) in dataset]\n",
    "\n",
    "    vectorizer = DictVectorizer(sparse=False)\n",
    "    X = vectorizer.fit_transform(features)\n",
    "\n",
    "    X_train, X_test, y_train, y_test = train_test_split(X, labels, test_size=0.2, random_state=42)\n",
    "\n",
    "    lr_classifier = LogisticRegression(max_iter=200)\n",
    "    lr_classifier.fit(X_train, y_train)\n",
    "    y_pred = lr_classifier.predict(X_test)\n",
    "    accuracy = accuracy_score(y_test, y_pred)\n",
    "    print(\"Logistic Regression Classifier Accuracy:\", accuracy)\n",
    "    return lr_classifier\n",
    "\n",
    "# Example usage:\n",
    "if __name__ == \"__main__\":\n",
    "    dataset = collect_dataset()\n",
    "    if dataset:\n",
    "        train_logistic_regression(dataset)\n"
   ]
  },
  {
   "cell_type": "markdown",
   "metadata": {},
   "source": [
    "Step 5: Main Function to Run All Steps\n",
    "The main function ties everything together: data collection, training the Naive Bayes classifier, and training the Logistic Regression classifier."
   ]
  },
  {
   "cell_type": "code",
   "execution_count": null,
   "metadata": {},
   "outputs": [],
   "source": [
    "def main():\n",
    "    # Step 1: Collect data from Wikipedia\n",
    "    print(\"Collecting dataset from Wikipedia...\")\n",
    "    dataset = collect_dataset()\n",
    "    if not dataset:\n",
    "        print(\"Dataset is empty. Exiting.\")\n",
    "        return\n",
    "\n",
    "    # Step 2: Train and evaluate the Naive Bayes Classifier\n",
    "    print(\"\\nTraining Naive Bayes Classifier with NLTK...\")\n",
    "    nb_classifier = train_naive_bayes(dataset)\n",
    "\n",
    "    # Step 3: Train and evaluate the Logistic Regression Classifier\n",
    "    print(\"\\nTraining Logistic Regression Classifier with scikit‑learn...\")\n",
    "    lr_classifier = train_logistic_regression(dataset)\n",
    "\n",
    "if __name__ == \"__main__\":\n",
    "    main()\n"
   ]
  }
 ],
 "metadata": {
  "kernelspec": {
   "display_name": ".NLP",
   "language": "python",
   "name": "python3"
  },
  "language_info": {
   "codemirror_mode": {
    "name": "ipython",
    "version": 3
   },
   "file_extension": ".py",
   "mimetype": "text/x-python",
   "name": "python",
   "nbconvert_exporter": "python",
   "pygments_lexer": "ipython3",
   "version": "3.9.6"
  }
 },
 "nbformat": 4,
 "nbformat_minor": 2
}
